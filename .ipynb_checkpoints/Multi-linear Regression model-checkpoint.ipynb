{
 "cells": [
  {
   "cell_type": "markdown",
   "metadata": {},
   "source": [
    "## Multiple Linear Regression is the type of regression in which more than one independent variable is used to predict the values of a dependent variable as opposed to Simple Linear regression where we have only a single independent variable(X). Here we have X1, X2, X3, etc Which are the Independent variables or features. \n",
    "\n",
    "Steps: \n",
    "\n",
    "**Step 1.**\n",
    "\n",
    "- Data Preprocessing Importing the libraries\n",
    "- Importing the data set\n",
    "- Classifying dependent and independent variables\n",
    "- Creating training and test sets \n",
    "\n",
    "**Step 2.**\n",
    "\n",
    "- Multiple Linear Regression\n",
    "- Create a Multiple Linear Regressor\n",
    "- Training the regressor with training data\n",
    "- Predicting the salary for a test set\n",
    "- Calculating score from Root Mean Log Squared Error"
   ]
  },
  {
   "cell_type": "code",
   "execution_count": null,
   "metadata": {},
   "outputs": [],
   "source": []
  }
 ],
 "metadata": {
  "kernelspec": {
   "display_name": "jupyter_env",
   "language": "python",
   "name": "jupyter_env"
  },
  "language_info": {
   "codemirror_mode": {
    "name": "ipython",
    "version": 3
   },
   "file_extension": ".py",
   "mimetype": "text/x-python",
   "name": "python",
   "nbconvert_exporter": "python",
   "pygments_lexer": "ipython3",
   "version": "3.7.6"
  }
 },
 "nbformat": 4,
 "nbformat_minor": 4
}
