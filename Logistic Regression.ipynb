{
 "cells": [
  {
   "cell_type": "markdown",
   "metadata": {},
   "source": [
    "## Logistic Regression\n",
    "\n",
    "Logistic Regression is a simple classification algorithm for learning to make such decisions. Logistic Regression is a model that is used when the dependent variable is categorical. A few cases where\n",
    "logistic regression can be used are mentioned below:\n",
    "- Image Segmentation and Categorization\n",
    "- Geographic Image recognition\n",
    "- Handwriting recognition\n",
    "- Determining whether a person is depressed based on the words of his social media posts\n",
    "- Predicting the probability of a person voting for a candidate in an election"
   ]
  },
  {
   "cell_type": "code",
   "execution_count": null,
   "metadata": {},
   "outputs": [],
   "source": []
  }
 ],
 "metadata": {
  "kernelspec": {
   "display_name": "jupyter_env",
   "language": "python",
   "name": "jupyter_env"
  },
  "language_info": {
   "codemirror_mode": {
    "name": "ipython",
    "version": 3
   },
   "file_extension": ".py",
   "mimetype": "text/x-python",
   "name": "python",
   "nbconvert_exporter": "python",
   "pygments_lexer": "ipython3",
   "version": "3.7.6"
  }
 },
 "nbformat": 4,
 "nbformat_minor": 4
}
