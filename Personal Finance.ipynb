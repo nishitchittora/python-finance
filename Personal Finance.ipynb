{
 "cells": [
  {
   "cell_type": "code",
   "execution_count": 5,
   "metadata": {},
   "outputs": [
    {
     "name": "stdout",
     "output_type": "stream",
     "text": [
      "    name  age\n",
      "0    max   24\n",
      "1  sunny   22\n"
     ]
    }
   ],
   "source": [
    "import pandas as pd\n",
    "ages = pd.DataFrame(data={\n",
    "    'name': ['max', 'sunny'],\n",
    "    'age': [24, 22]\n",
    "})\n",
    "print(ages)"
   ]
  },
  {
   "cell_type": "markdown",
   "metadata": {},
   "source": [
    "## ROI\n",
    "\n",
    "Return on investment. \n",
    "\n",
    "ROI = (( _final_ - _initial_ ) / _initial_ )*100 \n",
    "\n",
    "here, _final_ is a final amount of investment and. _initial_ is a initial amount of investment "
   ]
  },
  {
   "cell_type": "code",
   "execution_count": 6,
   "metadata": {},
   "outputs": [],
   "source": [
    "import pandas as pd\n",
    "df=pd.read_excel(\"XIRR.xlsx\")"
   ]
  },
  {
   "cell_type": "code",
   "execution_count": 7,
   "metadata": {},
   "outputs": [],
   "source": [
    "df['total'] = df['income'] + df['expense']"
   ]
  },
  {
   "cell_type": "code",
   "execution_count": 8,
   "metadata": {},
   "outputs": [],
   "source": [
    "values = df.total\n",
    "dates = df.date"
   ]
  },
  {
   "cell_type": "code",
   "execution_count": 9,
   "metadata": {},
   "outputs": [],
   "source": [
    "rate = 0.05\n",
    "min_date = min(df.date)"
   ]
  },
  {
   "cell_type": "code",
   "execution_count": 10,
   "metadata": {},
   "outputs": [],
   "source": [
    "# function of net present value\n",
    "def xnpv(rate, values, dates):\n",
    "    min_date = min(dates)\n",
    "    return sum([\n",
    "        value/(1+rate)**(date - min_date).days/365\n",
    "        for value, date\n",
    "        in zip(values, dates)\n",
    "    ])"
   ]
  },
  {
   "cell_type": "code",
   "execution_count": 11,
   "metadata": {},
   "outputs": [
    {
     "data": {
      "text/plain": [
       "-8.219178031654371"
      ]
     },
     "execution_count": 11,
     "metadata": {},
     "output_type": "execute_result"
    }
   ],
   "source": [
    "xnpv(rate, values, dates)"
   ]
  },
  {
   "cell_type": "code",
   "execution_count": 12,
   "metadata": {},
   "outputs": [],
   "source": [
    "from dotenv import load_dotenv, find_dotenv\n",
    "import requests"
   ]
  },
  {
   "cell_type": "code",
   "execution_count": 13,
   "metadata": {},
   "outputs": [],
   "source": [
    "load_dotenv(find_dotenv())\n",
    "API_KEY = 'b62b1c472e8642e8a6cff0f36da172d2'\n",
    "r = requests.get('https://openexchangerates.org/api/latest.json', params = {\n",
    "    'app_id': API_KEY,\n",
    "    'symbols': 'CAD,USD',\n",
    "    'show_alternative': True \n",
    "})"
   ]
  },
  {
   "cell_type": "code",
   "execution_count": 14,
   "metadata": {},
   "outputs": [
    {
     "data": {
      "text/plain": [
       "{'CAD': 1.274768, 'USD': 1}"
      ]
     },
     "execution_count": 14,
     "metadata": {},
     "output_type": "execute_result"
    }
   ],
   "source": [
    "r.json()['rates']"
   ]
  },
  {
   "cell_type": "markdown",
   "metadata": {},
   "source": [
    "## Amortization\n",
    "\n",
    "Amortization refers to the process of paying off a loan over time through regular payments. On an amortizing loan, a portion of each payment is for interest, while the remaining amount is applied against the principal balance."
   ]
  },
  {
   "cell_type": "code",
   "execution_count": 15,
   "metadata": {},
   "outputs": [
    {
     "name": "stderr",
     "output_type": "stream",
     "text": [
      "/Users/nishit/.envs/python3.7/lib/python3.7/site-packages/ipykernel_launcher.py:2: DeprecationWarning: numpy.pmt is deprecated and will be removed from NumPy 1.20. Use numpy_financial.pmt instead (https://pypi.org/project/numpy-financial/).\n",
      "  \n"
     ]
    },
    {
     "data": {
      "text/plain": [
       "-460917.79911737243"
      ]
     },
     "execution_count": 15,
     "metadata": {},
     "output_type": "execute_result"
    }
   ],
   "source": [
    "import numpy as np\n",
    "np.pmt(0.0925/12, 10*12, 36000000)"
   ]
  },
  {
   "cell_type": "markdown",
   "metadata": {},
   "source": [
    "## Budget\n"
   ]
  },
  {
   "cell_type": "code",
   "execution_count": 16,
   "metadata": {},
   "outputs": [
    {
     "name": "stdout",
     "output_type": "stream",
     "text": [
      "2021-01-25 22:12:11.350605\n"
     ]
    }
   ],
   "source": [
    "import datetime\n",
    "date_1 = datetime.datetime.now()\n",
    "print(date_1)"
   ]
  },
  {
   "cell_type": "code",
   "execution_count": 17,
   "metadata": {},
   "outputs": [
    {
     "name": "stdout",
     "output_type": "stream",
     "text": [
      "2021-01-25 00:00:00\n"
     ]
    }
   ],
   "source": [
    "import pandas as pd\n",
    "print(pd.Timestamp(date_1).normalize())"
   ]
  },
  {
   "cell_type": "code",
   "execution_count": 18,
   "metadata": {},
   "outputs": [],
   "source": [
    "start = pd.Timestamp('today').normalize()\n",
    "end = start + datetime.timedelta(days=365)"
   ]
  },
  {
   "cell_type": "code",
   "execution_count": 19,
   "metadata": {},
   "outputs": [
    {
     "data": {
      "text/plain": [
       "Timestamp('2022-01-25 00:00:00')"
      ]
     },
     "execution_count": 19,
     "metadata": {},
     "output_type": "execute_result"
    }
   ],
   "source": [
    "end"
   ]
  },
  {
   "cell_type": "code",
   "execution_count": 20,
   "metadata": {},
   "outputs": [
    {
     "data": {
      "text/html": [
       "<div>\n",
       "<style scoped>\n",
       "    .dataframe tbody tr th:only-of-type {\n",
       "        vertical-align: middle;\n",
       "    }\n",
       "\n",
       "    .dataframe tbody tr th {\n",
       "        vertical-align: top;\n",
       "    }\n",
       "\n",
       "    .dataframe thead th {\n",
       "        text-align: right;\n",
       "    }\n",
       "</style>\n",
       "<table border=\"1\" class=\"dataframe\">\n",
       "  <thead>\n",
       "    <tr style=\"text-align: right;\">\n",
       "      <th></th>\n",
       "    </tr>\n",
       "  </thead>\n",
       "  <tbody>\n",
       "    <tr>\n",
       "      <th>2021-01-25</th>\n",
       "    </tr>\n",
       "    <tr>\n",
       "      <th>2021-01-26</th>\n",
       "    </tr>\n",
       "    <tr>\n",
       "      <th>2021-01-27</th>\n",
       "    </tr>\n",
       "    <tr>\n",
       "      <th>2021-01-28</th>\n",
       "    </tr>\n",
       "    <tr>\n",
       "      <th>2021-01-29</th>\n",
       "    </tr>\n",
       "    <tr>\n",
       "      <th>...</th>\n",
       "    </tr>\n",
       "    <tr>\n",
       "      <th>2022-01-21</th>\n",
       "    </tr>\n",
       "    <tr>\n",
       "      <th>2022-01-22</th>\n",
       "    </tr>\n",
       "    <tr>\n",
       "      <th>2022-01-23</th>\n",
       "    </tr>\n",
       "    <tr>\n",
       "      <th>2022-01-24</th>\n",
       "    </tr>\n",
       "    <tr>\n",
       "      <th>2022-01-25</th>\n",
       "    </tr>\n",
       "  </tbody>\n",
       "</table>\n",
       "<p>366 rows × 0 columns</p>\n",
       "</div>"
      ],
      "text/plain": [
       "Empty DataFrame\n",
       "Columns: []\n",
       "Index: [2021-01-25 00:00:00, 2021-01-26 00:00:00, 2021-01-27 00:00:00, 2021-01-28 00:00:00, 2021-01-29 00:00:00, 2021-01-30 00:00:00, 2021-01-31 00:00:00, 2021-02-01 00:00:00, 2021-02-02 00:00:00, 2021-02-03 00:00:00, 2021-02-04 00:00:00, 2021-02-05 00:00:00, 2021-02-06 00:00:00, 2021-02-07 00:00:00, 2021-02-08 00:00:00, 2021-02-09 00:00:00, 2021-02-10 00:00:00, 2021-02-11 00:00:00, 2021-02-12 00:00:00, 2021-02-13 00:00:00, 2021-02-14 00:00:00, 2021-02-15 00:00:00, 2021-02-16 00:00:00, 2021-02-17 00:00:00, 2021-02-18 00:00:00, 2021-02-19 00:00:00, 2021-02-20 00:00:00, 2021-02-21 00:00:00, 2021-02-22 00:00:00, 2021-02-23 00:00:00, 2021-02-24 00:00:00, 2021-02-25 00:00:00, 2021-02-26 00:00:00, 2021-02-27 00:00:00, 2021-02-28 00:00:00, 2021-03-01 00:00:00, 2021-03-02 00:00:00, 2021-03-03 00:00:00, 2021-03-04 00:00:00, 2021-03-05 00:00:00, 2021-03-06 00:00:00, 2021-03-07 00:00:00, 2021-03-08 00:00:00, 2021-03-09 00:00:00, 2021-03-10 00:00:00, 2021-03-11 00:00:00, 2021-03-12 00:00:00, 2021-03-13 00:00:00, 2021-03-14 00:00:00, 2021-03-15 00:00:00, 2021-03-16 00:00:00, 2021-03-17 00:00:00, 2021-03-18 00:00:00, 2021-03-19 00:00:00, 2021-03-20 00:00:00, 2021-03-21 00:00:00, 2021-03-22 00:00:00, 2021-03-23 00:00:00, 2021-03-24 00:00:00, 2021-03-25 00:00:00, 2021-03-26 00:00:00, 2021-03-27 00:00:00, 2021-03-28 00:00:00, 2021-03-29 00:00:00, 2021-03-30 00:00:00, 2021-03-31 00:00:00, 2021-04-01 00:00:00, 2021-04-02 00:00:00, 2021-04-03 00:00:00, 2021-04-04 00:00:00, 2021-04-05 00:00:00, 2021-04-06 00:00:00, 2021-04-07 00:00:00, 2021-04-08 00:00:00, 2021-04-09 00:00:00, 2021-04-10 00:00:00, 2021-04-11 00:00:00, 2021-04-12 00:00:00, 2021-04-13 00:00:00, 2021-04-14 00:00:00, 2021-04-15 00:00:00, 2021-04-16 00:00:00, 2021-04-17 00:00:00, 2021-04-18 00:00:00, 2021-04-19 00:00:00, 2021-04-20 00:00:00, 2021-04-21 00:00:00, 2021-04-22 00:00:00, 2021-04-23 00:00:00, 2021-04-24 00:00:00, 2021-04-25 00:00:00, 2021-04-26 00:00:00, 2021-04-27 00:00:00, 2021-04-28 00:00:00, 2021-04-29 00:00:00, 2021-04-30 00:00:00, 2021-05-01 00:00:00, 2021-05-02 00:00:00, 2021-05-03 00:00:00, 2021-05-04 00:00:00, ...]\n",
       "\n",
       "[366 rows x 0 columns]"
      ]
     },
     "execution_count": 20,
     "metadata": {},
     "output_type": "execute_result"
    }
   ],
   "source": [
    "pd.DataFrame(index=pd.date_range(start=start, end=end))"
   ]
  },
  {
   "cell_type": "code",
   "execution_count": 21,
   "metadata": {},
   "outputs": [
    {
     "data": {
      "text/plain": [
       "'RRULE:INTERVAL=1;FREQ=WEEKLY;UNTIL=20210710'"
      ]
     },
     "execution_count": 21,
     "metadata": {},
     "output_type": "execute_result"
    }
   ],
   "source": [
    "from recurrent import RecurringEvent\n",
    "\n",
    "r = RecurringEvent()\n",
    "r.parse(\"every week until July 10th\")"
   ]
  },
  {
   "cell_type": "code",
   "execution_count": 22,
   "metadata": {},
   "outputs": [],
   "source": [
    "from dateutil import rrule\n",
    "rr = rrule.rrulestr(r.get_RFC_rrule())"
   ]
  },
  {
   "cell_type": "code",
   "execution_count": 24,
   "metadata": {},
   "outputs": [
    {
     "data": {
      "text/plain": [
       "[Timestamp('2021-01-25 00:00:00'),\n",
       " Timestamp('2021-02-01 00:00:00'),\n",
       " Timestamp('2021-02-08 00:00:00'),\n",
       " Timestamp('2021-02-15 00:00:00'),\n",
       " Timestamp('2021-02-22 00:00:00'),\n",
       " Timestamp('2021-03-01 00:00:00'),\n",
       " Timestamp('2021-03-08 00:00:00'),\n",
       " Timestamp('2021-03-15 00:00:00'),\n",
       " Timestamp('2021-03-22 00:00:00'),\n",
       " Timestamp('2021-03-29 00:00:00'),\n",
       " Timestamp('2021-04-05 00:00:00'),\n",
       " Timestamp('2021-04-12 00:00:00'),\n",
       " Timestamp('2021-04-19 00:00:00'),\n",
       " Timestamp('2021-04-26 00:00:00'),\n",
       " Timestamp('2021-05-03 00:00:00'),\n",
       " Timestamp('2021-05-10 00:00:00'),\n",
       " Timestamp('2021-05-17 00:00:00'),\n",
       " Timestamp('2021-05-24 00:00:00'),\n",
       " Timestamp('2021-05-31 00:00:00'),\n",
       " Timestamp('2021-06-07 00:00:00'),\n",
       " Timestamp('2021-06-14 00:00:00'),\n",
       " Timestamp('2021-06-21 00:00:00'),\n",
       " Timestamp('2021-06-28 00:00:00'),\n",
       " Timestamp('2021-07-05 00:00:00')]"
      ]
     },
     "execution_count": 24,
     "metadata": {},
     "output_type": "execute_result"
    }
   ],
   "source": [
    "[pd.to_datetime(date).normalize() for date in rr.between(start, end)]"
   ]
  },
  {
   "cell_type": "code",
   "execution_count": 25,
   "metadata": {},
   "outputs": [],
   "source": [
    "def get_dates(frequency):\n",
    "    try:\n",
    "        return [pd.Timestamp(frequency).normalize()]\n",
    "    except:\n",
    "        pass\n",
    "    \n",
    "    try:\n",
    "        r = RecurringEvent()\n",
    "        r.parse(frequency)\n",
    "        rr = rrule.rrulestr(r.get_RFC_rrule())\n",
    "        return [\n",
    "            pd.to_datetime(date).normalize()\n",
    "            for date in rr.between(start, end)\n",
    "        ]\n",
    "    except:\n",
    "        raise Exception"
   ]
  },
  {
   "cell_type": "code",
   "execution_count": 34,
   "metadata": {},
   "outputs": [],
   "source": [
    "def build_calendar(budget):\n",
    "    calendar = pd.DataFrame(index=pd.date_range(start=start, end=end))\n",
    "    \n",
    "    for k,v in budget.items():\n",
    "        frequency = v.get('frequency')\n",
    "        amount = v.get('amount')\n",
    "        dates = get_dates(frequency)\n",
    "        \n",
    "        i = pd.DataFrame(\n",
    "            data={k: amount},\n",
    "            index=pd.DatetimeIndex(pd.Series(dates))\n",
    "        )\n",
    "        \n",
    "        calendar = pd.concat([calendar, i], axis=1).fillna(0)\n",
    "        calendar['total'] = calendar.sum(axis=1)\n",
    "        calendar['cum_total'] = calendar['total'].cumsum()\n",
    "        return calendar"
   ]
  },
  {
   "cell_type": "code",
   "execution_count": 38,
   "metadata": {},
   "outputs": [],
   "source": [
    "from matplotlib import pyplot as plt \n",
    "%matplotlib inline\n",
    "\n",
    "\n",
    "def plot_budget(df): \n",
    "    plt.figure(figsize=(10, 5))\n",
    "    plt.plot(df.index, df.total, label='Daily Total')\n",
    "    plt.plot(df.index, df.cum_total, label='Cumulative Total')\n",
    "    plt.legend()"
   ]
  },
  {
   "cell_type": "code",
   "execution_count": 41,
   "metadata": {},
   "outputs": [
    {
     "name": "stderr",
     "output_type": "stream",
     "text": [
      "/Users/nishit/.envs/python3.7/lib/python3.7/site-packages/ipykernel_launcher.py:18: YAMLLoadWarning: calling yaml.load() without Loader=... is deprecated, as the default Loader is unsafe. Please read https://msg.pyyaml.org/load for full details.\n"
     ]
    }
   ],
   "source": [
    "import yaml\n",
    "budget = yaml.load(''' \n",
    "    bank: \n",
    "        frequency: today \n",
    "        amount: 2000 \n",
    "    income: \n",
    "        frequency: every 2 weeks on Friday \n",
    "        amount: 1000 \n",
    "    rent: \n",
    "        frequency: every month \n",
    "        amount: -1500 \n",
    "    fun: \n",
    "        frequency: every week on Friday and Saturday \n",
    "        amount: -40 \n",
    "    vacation: \n",
    "        frequency: 2021-08-01 \n",
    "        amount: -1000\n",
    "    ''')\n"
   ]
  },
  {
   "cell_type": "code",
   "execution_count": 42,
   "metadata": {},
   "outputs": [
    {
     "data": {
      "image/png": "[encoded data removed]",
      "text/plain": [
       "<Figure size 720x360 with 1 Axes>"
      ]
     },
     "metadata": {
      "needs_background": "light"
     },
     "output_type": "display_data"
    }
   ],
   "source": [
    "\n",
    "calendar = build_calendar(budget) \n",
    "plot_budget(calendar) "
   ]
  },
  {
   "cell_type": "markdown",
   "metadata": {},
   "source": [
    "## Rebalancing \n",
    "\n",
    "Rebalancing your investment portfolio against target allocations is a good idea because it keeps risk in check and forces you to remove the emotion from your investment decisions."
   ]
  }
 ],
 "metadata": {
  "kernelspec": {
   "display_name": "jupyter_env",
   "language": "python",
   "name": "jupyter_env"
  },
  "language_info": {
   "codemirror_mode": {
    "name": "ipython",
    "version": 3
   },
   "file_extension": ".py",
   "mimetype": "text/x-python",
   "name": "python",
   "nbconvert_exporter": "python",
   "pygments_lexer": "ipython3",
   "version": "3.7.6"
  }
 },
 "nbformat": 4,
 "nbformat_minor": 4
}
