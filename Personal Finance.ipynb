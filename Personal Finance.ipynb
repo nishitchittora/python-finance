{
 "cells": [
  {
   "cell_type": "code",
   "execution_count": 1,
   "metadata": {},
   "outputs": [
    {
     "name": "stdout",
     "output_type": "stream",
     "text": [
      "    name  age\n",
      "0    max   24\n",
      "1  sunny   22\n"
     ]
    }
   ],
   "source": [
    "import pandas as pd\n",
    "ages = pd.DataFrame(data={\n",
    "    'name': ['max', 'sunny'],\n",
    "    'age': [24, 22]\n",
    "})\n",
    "print(ages)"
   ]
  },
  {
   "cell_type": "markdown",
   "metadata": {},
   "source": [
    "## ROI\n",
    "\n",
    "Return on investment. \n",
    "\n",
    "ROI = (( _final_ - _initial_ ) / _initial_ )*100 \n",
    "\n",
    "here, _final_ is a final amount of investment and. _initial_ is a initial amount of investment "
   ]
  },
  {
   "cell_type": "code",
   "execution_count": 2,
   "metadata": {},
   "outputs": [],
   "source": [
    "import pandas as pd\n",
    "df=pd.read_excel(\"XIRR.xlsx\")"
   ]
  },
  {
   "cell_type": "code",
   "execution_count": 4,
   "metadata": {},
   "outputs": [],
   "source": [
    "df['total'] = df['income'] + df['expense']"
   ]
  },
  {
   "cell_type": "code",
   "execution_count": 16,
   "metadata": {},
   "outputs": [],
   "source": [
    "values = df.total\n",
    "dates = df.date"
   ]
  },
  {
   "cell_type": "code",
   "execution_count": 17,
   "metadata": {},
   "outputs": [],
   "source": [
    "rate = 0.05\n",
    "min_date = min(df.date)"
   ]
  },
  {
   "cell_type": "code",
   "execution_count": 18,
   "metadata": {},
   "outputs": [],
   "source": [
    "# function of net present value\n",
    "def xnpv(rate, values, dates):\n",
    "    min_date = min(dates)\n",
    "    return sum([\n",
    "        value/(1+rate)**(date - min_date).days/365\n",
    "        for value, date\n",
    "        in zip(values, dates)\n",
    "    ])"
   ]
  },
  {
   "cell_type": "code",
   "execution_count": 28,
   "metadata": {},
   "outputs": [
    {
     "data": {
      "text/plain": [
       "-8.219178031654371"
      ]
     },
     "execution_count": 28,
     "metadata": {},
     "output_type": "execute_result"
    }
   ],
   "source": [
    "xnpv(rate, values, dates)"
   ]
  },
  {
   "cell_type": "code",
   "execution_count": 2,
   "metadata": {},
   "outputs": [],
   "source": [
    "from dotenv import load_dotenv, find_dotenv\n",
    "import requests"
   ]
  },
  {
   "cell_type": "code",
   "execution_count": 4,
   "metadata": {},
   "outputs": [],
   "source": [
    "load_dotenv(find_dotenv())\n",
    "API_KEY = 'b62b1c472e8642e8a6cff0f36da172d2'\n",
    "r = requests.get('https://openexchangerates.org/api/latest.json', params = {\n",
    "    'app_id': API_KEY,\n",
    "    'symbols': 'CAD,USD',\n",
    "    'show_alternative': True \n",
    "})"
   ]
  },
  {
   "cell_type": "code",
   "execution_count": 10,
   "metadata": {},
   "outputs": [
    {
     "data": {
      "text/plain": [
       "{'CAD': 1.273375, 'USD': 1}"
      ]
     },
     "execution_count": 10,
     "metadata": {},
     "output_type": "execute_result"
    }
   ],
   "source": [
    "r.json()['rates']"
   ]
  },
  {
   "cell_type": "markdown",
   "metadata": {},
   "source": [
    "## Amortization\n",
    "\n",
    "Amortization refers to the process of paying off a loan over time through regular payments. On an amortizing loan, a portion of each payment is for interest, while the remaining amount is applied against the principal balance."
   ]
  },
  {
   "cell_type": "code",
   "execution_count": 11,
   "metadata": {},
   "outputs": [
    {
     "name": "stderr",
     "output_type": "stream",
     "text": [
      "/Users/nishit/.envs/python3.7/lib/python3.7/site-packages/ipykernel_launcher.py:2: DeprecationWarning: numpy.pmt is deprecated and will be removed from NumPy 1.20. Use numpy_financial.pmt instead (https://pypi.org/project/numpy-financial/).\n",
      "  \n"
     ]
    },
    {
     "data": {
      "text/plain": [
       "-460917.79911737243"
      ]
     },
     "execution_count": 11,
     "metadata": {},
     "output_type": "execute_result"
    }
   ],
   "source": [
    "import numpy as np\n",
    "np.pmt(0.0925/12, 10*12, 36000000)"
   ]
  },
  {
   "cell_type": "markdown",
   "metadata": {},
   "source": [
    "## Budget\n"
   ]
  },
  {
   "cell_type": "code",
   "execution_count": 12,
   "metadata": {},
   "outputs": [
    {
     "name": "stdout",
     "output_type": "stream",
     "text": [
      "2021-01-24 20:40:51.576056\n"
     ]
    }
   ],
   "source": [
    "import datetime\n",
    "date_1 = datetime.datetime.now()\n",
    "print(date_1)"
   ]
  },
  {
   "cell_type": "code",
   "execution_count": 14,
   "metadata": {},
   "outputs": [
    {
     "name": "stdout",
     "output_type": "stream",
     "text": [
      "2021-01-24 00:00:00\n"
     ]
    }
   ],
   "source": [
    "import pandas as pd\n",
    "print(pd.Timestamp(date_1).normalize())"
   ]
  },
  {
   "cell_type": "code",
   "execution_count": null,
   "metadata": {},
   "outputs": [],
   "source": []
  }
 ],
 "metadata": {
  "kernelspec": {
   "display_name": "jupyter_env",
   "language": "python",
   "name": "jupyter_env"
  },
  "language_info": {
   "codemirror_mode": {
    "name": "ipython",
    "version": 3
   },
   "file_extension": ".py",
   "mimetype": "text/x-python",
   "name": "python",
   "nbconvert_exporter": "python",
   "pygments_lexer": "ipython3",
   "version": "3.7.6"
  }
 },
 "nbformat": 4,
 "nbformat_minor": 4
}
