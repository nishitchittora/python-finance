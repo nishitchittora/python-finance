{
 "cells": [
  {
   "cell_type": "markdown",
   "metadata": {},
   "source": [
    "## K nearest Neighbours\n",
    "\n",
    "K nearest neighbours (KNN) is one of the simplest algorithms used in machine learning that is easy to\n",
    "understand and successful in a large number of problems including handwriting recognition and email\n",
    "classification. KNN is a non-parametric technique and is used in both regression and classification\n",
    "problem. Here we will discuss only KNN classification."
   ]
  },
  {
   "cell_type": "code",
   "execution_count": null,
   "metadata": {},
   "outputs": [],
   "source": []
  }
 ],
 "metadata": {
  "kernelspec": {
   "display_name": "jupyter_env",
   "language": "python",
   "name": "jupyter_env"
  },
  "language_info": {
   "codemirror_mode": {
    "name": "ipython",
    "version": 3
   },
   "file_extension": ".py",
   "mimetype": "text/x-python",
   "name": "python",
   "nbconvert_exporter": "python",
   "pygments_lexer": "ipython3",
   "version": "3.7.6"
  }
 },
 "nbformat": 4,
 "nbformat_minor": 4
}
