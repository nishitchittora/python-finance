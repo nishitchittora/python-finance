{
 "cells": [
  {
   "cell_type": "markdown",
   "metadata": {},
   "source": [
    "## Support Vector Regression(SVR) is a supervised learning algorithm that is based on Support Vector Machines(SVM). SVM uses support vectors or margin of tolerance to identify the categories in Classification problems called Support vector Classifiers and to predict continuous features in Regression problems called Support Vector Regressors. \n",
    "\n",
    "Step 1.\n",
    "- Data Preprocessing\n",
    "- Importing the libraries \n",
    "- Importing the data set\n",
    "- Dealing with categorical data\n",
    "- Classifying dependent and independent variables\n",
    "- Creating training and test sets\n",
    "\n",
    "Step 2.\n",
    "- Create a Support vector Regressor\n",
    "- Training the regressor with training data\n",
    "- Predicting the salary for a test set\n",
    "- Calculating the score from Root Mean Log Squared Error"
   ]
  },
  {
   "cell_type": "markdown",
   "metadata": {},
   "source": [
    "A support vector machine, or SVM, is a machine learning technique widely used in the fields of data\n",
    "analysis and pattern recognition. Classifying data has been one of the major tasks in machine learning.\n",
    "The idea of SVM is to build a hyperplane to classify the data into different labels."
   ]
  },
  {
   "cell_type": "code",
   "execution_count": null,
   "metadata": {},
   "outputs": [],
   "source": []
  }
 ],
 "metadata": {
  "kernelspec": {
   "display_name": "jupyter_env",
   "language": "python",
   "name": "jupyter_env"
  },
  "language_info": {
   "codemirror_mode": {
    "name": "ipython",
    "version": 3
   },
   "file_extension": ".py",
   "mimetype": "text/x-python",
   "name": "python",
   "nbconvert_exporter": "python",
   "pygments_lexer": "ipython3",
   "version": "3.7.6"
  }
 },
 "nbformat": 4,
 "nbformat_minor": 4
}
