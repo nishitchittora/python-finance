{
 "cells": [
  {
   "cell_type": "markdown",
   "metadata": {},
   "source": [
    "## Random Forest\n",
    "\n",
    "Random Forest comprises of decision trees which are graphs of decisions representing their course of\n",
    "action or statistical probability. These multiple trees are plotted to a single tree which is called\n",
    "Classification and Regression (CART) Model. To classify an object based on its attributes, each and every\n",
    "tree gives a classification which is said to “vote” for that class. The forest then chooses the classification\n",
    "with the maximum number of votes. For regression, it considers the average of the outputs for different\n",
    "trees."
   ]
  },
  {
   "cell_type": "code",
   "execution_count": null,
   "metadata": {},
   "outputs": [],
   "source": []
  }
 ],
 "metadata": {
  "kernelspec": {
   "display_name": "jupyter_env",
   "language": "python",
   "name": "jupyter_env"
  },
  "language_info": {
   "codemirror_mode": {
    "name": "ipython",
    "version": 3
   },
   "file_extension": ".py",
   "mimetype": "text/x-python",
   "name": "python",
   "nbconvert_exporter": "python",
   "pygments_lexer": "ipython3",
   "version": "3.7.6"
  }
 },
 "nbformat": 4,
 "nbformat_minor": 4
}
