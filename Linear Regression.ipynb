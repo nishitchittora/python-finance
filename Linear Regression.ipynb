{
 "cells": [
  {
   "cell_type": "markdown",
   "metadata": {},
   "source": [
    "## Regression techniques are used in machine learning to predict continuous values, for example predicting salaries, ages, or even profits.\n",
    "\n",
    "##  Linear regression is the type of regression in which the correlation between the dependent and independent factors can be represented in a linear fashion. Linear regression is a linear approach to modeling the relationship between a scalar response and one or more explanatory variables. \n",
    "\n",
    "## Simple Linear Regression is the type of regression in which a single independent variable is used to predict the values of the dependent variable. \n",
    "\n"
   ]
  },
  {
   "cell_type": "code",
   "execution_count": null,
   "metadata": {},
   "outputs": [],
   "source": []
  }
 ],
 "metadata": {
  "kernelspec": {
   "display_name": "jupyter_env",
   "language": "python",
   "name": "jupyter_env"
  },
  "language_info": {
   "codemirror_mode": {
    "name": "ipython",
    "version": 3
   },
   "file_extension": ".py",
   "mimetype": "text/x-python",
   "name": "python",
   "nbconvert_exporter": "python",
   "pygments_lexer": "ipython3",
   "version": "3.7.6"
  }
 },
 "nbformat": 4,
 "nbformat_minor": 4
}
