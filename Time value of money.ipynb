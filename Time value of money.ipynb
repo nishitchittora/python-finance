{
 "cells": [
  {
   "cell_type": "markdown",
   "metadata": {},
   "source": [
    "## Future cashflow of money\n",
    "\n",
    "FV = PV * (1+r) ** n\n",
    "\n",
    "Here, FV is the future value, PV is the present value, R is the period rate and n is the number of periods."
   ]
  },
  {
   "cell_type": "code",
   "execution_count": 1,
   "metadata": {},
   "outputs": [
    {
     "name": "stderr",
     "output_type": "stream",
     "text": [
      "/Users/nishit/.envs/python3.7/lib/python3.7/site-packages/ipykernel_launcher.py:4: DeprecationWarning: scipy.fv is deprecated and will be removed in SciPy 2.0.0, use numpy.fv instead\n",
      "  after removing the cwd from sys.path.\n"
     ]
    },
    {
     "data": {
      "text/plain": [
       "-121.00000000000001"
      ]
     },
     "execution_count": 1,
     "metadata": {},
     "output_type": "execute_result"
    }
   ],
   "source": [
    "import scipy as sp\n",
    "\n",
    "#sp.fv(rate,nper,pmt,pv=0,when='end')\n",
    "sp.fv(0.1, 2, 0, 100)"
   ]
  },
  {
   "cell_type": "markdown",
   "metadata": {},
   "source": [
    "## Present cashflow of money\n",
    "\n",
    "PV = FV / (1+r) ** n\n",
    "\n",
    "Here, FV is the future value, PV is the present value, R is the period rate and n is the number of periods."
   ]
  },
  {
   "cell_type": "code",
   "execution_count": 3,
   "metadata": {},
   "outputs": [
    {
     "name": "stderr",
     "output_type": "stream",
     "text": [
      "/Users/nishit/.envs/python3.7/lib/python3.7/site-packages/ipykernel_launcher.py:3: DeprecationWarning: scipy.pv is deprecated and will be removed in SciPy 2.0.0, use numpy.pv instead\n",
      "  This is separate from the ipykernel package so we can avoid doing imports until\n"
     ]
    },
    {
     "data": {
      "text/plain": [
       "-75.61436672967865"
      ]
     },
     "execution_count": 3,
     "metadata": {},
     "output_type": "execute_result"
    }
   ],
   "source": [
    "#sp.pv(rate,nper,pmt,fv=0,when='end')\n",
    "\n",
    "sp.pv(0.15, 2,0,100)"
   ]
  },
  {
   "cell_type": "markdown",
   "metadata": {},
   "source": [
    "## Perpetuity\n",
    "\n",
    "The same constant cash flows, at the same intervals forever.\n",
    "\n"
   ]
  },
  {
   "cell_type": "code",
   "execution_count": null,
   "metadata": {},
   "outputs": [],
   "source": []
  }
 ],
 "metadata": {
  "kernelspec": {
   "display_name": "jupyter_env",
   "language": "python",
   "name": "jupyter_env"
  },
  "language_info": {
   "codemirror_mode": {
    "name": "ipython",
    "version": 3
   },
   "file_extension": ".py",
   "mimetype": "text/x-python",
   "name": "python",
   "nbconvert_exporter": "python",
   "pygments_lexer": "ipython3",
   "version": "3.7.6"
  }
 },
 "nbformat": 4,
 "nbformat_minor": 4
}
